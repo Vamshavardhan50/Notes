{
 "cells": [
  {
   "cell_type": "code",
   "execution_count": null,
   "id": "1202fd6d",
   "metadata": {},
   "outputs": [],
   "source": [
    "import numpy as np\n",
    "import pandas as pd\n",
    "import matplotlib.pyplot as plt\n"
   ]
  },
  {
   "cell_type": "markdown",
   "id": "78442b29",
   "metadata": {},
   "source": [
    "**Matplotlib Basics** "
   ]
  },
  {
   "cell_type": "code",
   "execution_count": null,
   "id": "dbdd897d",
   "metadata": {},
   "outputs": [],
   "source": [
    "x=np.linspace(0, 10, 11)\n",
    "x\n",
    "y=x**2\n",
    "y"
   ]
  },
  {
   "cell_type": "code",
   "execution_count": null,
   "id": "08895aba",
   "metadata": {},
   "outputs": [],
   "source": [
    "plt.plot(x,y)\n",
    "plt.xlabel('x values')\n",
    "plt.ylabel('y values')\n",
    "plt.title('Plot of y = x^2')"
   ]
  },
  {
   "cell_type": "code",
   "execution_count": null,
   "id": "63e3bc03",
   "metadata": {},
   "outputs": [],
   "source": [
    "plt.subplot(2,2,1)\n",
    "plt.plot(y,x, 'r')\n",
    "plt.subplot(2,2,2)\n",
    "plt.plot(x+10, y+10, 'b')\n",
    "plt.subplot(2,2,3)\n",
    "plt.plot(x**2, y**2, 'o')\n",
    "plt.subplot(2,2,4)\n",
    "plt.plot(x, y, 'y--')"
   ]
  },
  {
   "cell_type": "markdown",
   "id": "ea7835a0",
   "metadata": {},
   "source": [
    "**Object Oriented way**\n"
   ]
  },
  {
   "cell_type": "code",
   "execution_count": null,
   "id": "c88961f4",
   "metadata": {},
   "outputs": [],
   "source": [
    "fig = plt.figure(figsize=(10, 6), dpi=100)\n",
    "axis1= fig.add_axes([0.1, 0.1, 1,1])\n",
    "axis1.plot(x, y,'g')\n",
    "axis2= fig.add_axes([0.3, 0.4, .3,.3])\n",
    "axis2.plot(x, y,'g')"
   ]
  },
  {
   "cell_type": "markdown",
   "id": "ec2d4977",
   "metadata": {},
   "source": [
    "**Types of Plots**\n"
   ]
  },
  {
   "cell_type": "code",
   "execution_count": null,
   "id": "7d3fc8a7",
   "metadata": {},
   "outputs": [],
   "source": [
    "plt.scatter(x, y)"
   ]
  },
  {
   "cell_type": "code",
   "execution_count": null,
   "id": "cac523ac",
   "metadata": {},
   "outputs": [],
   "source": [
    "from random import sample\n",
    "data  = sample(range(1,1000), 100)\n",
    "plt.hist(data)"
   ]
  },
  {
   "cell_type": "code",
   "execution_count": null,
   "id": "21b53eec",
   "metadata": {},
   "outputs": [],
   "source": [
    "plt.boxplot(x)"
   ]
  },
  {
   "cell_type": "markdown",
   "id": "fff6f0da",
   "metadata": {},
   "source": [
    "**Saving plots**"
   ]
  },
  {
   "cell_type": "code",
   "execution_count": null,
   "id": "5b86314c",
   "metadata": {},
   "outputs": [],
   "source": [
    "fig = plt.figure()\n",
    "a= fig.add_axes([0.1, 0.1, 1,1])\n",
    "a.plot(x, y,'g')\n",
    "plt.savefig(\"Basicplot.png\")"
   ]
  },
  {
   "cell_type": "markdown",
   "id": "ea97bae2",
   "metadata": {},
   "source": [
    "**Working with images**"
   ]
  },
  {
   "cell_type": "code",
   "execution_count": null,
   "id": "30e97021",
   "metadata": {},
   "outputs": [],
   "source": [
    "import matplotlib.image as mpimg\n",
    "img = mpimg.imread('Basicplot.png')\n",
    "plt.imshow(img)\n",
    "plt.axis('off')  "
   ]
  },
  {
   "cell_type": "code",
   "execution_count": null,
   "id": "d2137734",
   "metadata": {},
   "outputs": [],
   "source": [
    "cropped_img = img[100:400, 100:400]  \n",
    "plt.imshow(cropped_img)\n",
    "plt.axis('off')"
   ]
  },
  {
   "cell_type": "code",
   "execution_count": null,
   "id": "96aec358",
   "metadata": {},
   "outputs": [],
   "source": []
  }
 ],
 "metadata": {
  "kernelspec": {
   "display_name": "Python 3",
   "language": "python",
   "name": "python3"
  },
  "language_info": {
   "codemirror_mode": {
    "name": "ipython",
    "version": 3
   },
   "file_extension": ".py",
   "mimetype": "text/x-python",
   "name": "python",
   "nbconvert_exporter": "python",
   "pygments_lexer": "ipython3",
   "version": "3.13.2"
  }
 },
 "nbformat": 4,
 "nbformat_minor": 5
}
