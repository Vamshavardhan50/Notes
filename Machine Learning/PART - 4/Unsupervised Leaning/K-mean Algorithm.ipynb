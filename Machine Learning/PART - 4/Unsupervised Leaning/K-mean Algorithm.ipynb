{
 "cells": [
  {
   "cell_type": "code",
   "execution_count": 24,
   "id": "7881f588",
   "metadata": {},
   "outputs": [],
   "source": [
    "import pandas as pd \n",
    "import matplotlib.pyplot as plt \n",
    "import seaborn as sns\n",
    "from sklearn.cluster import KMeans\n",
    "from sklearn.preprocessing import StandardScaler\n",
    "from sklearn.datasets import make_blobs "
   ]
  },
  {
   "cell_type": "code",
   "execution_count": 25,
   "id": "cb39a743",
   "metadata": {},
   "outputs": [],
   "source": [
    "X, y_true = make_blobs(n_samples=100, centers=3, cluster_std=0.60, random_state=42)"
   ]
  },
  {
   "cell_type": "code",
   "execution_count": 26,
   "id": "366cb043",
   "metadata": {},
   "outputs": [
    {
     "data": {
      "text/plain": [
       "array([[-7.38770342, -7.78901793],\n",
       "       [ 5.12798917,  1.23465109],\n",
       "       [-2.79088225,  9.33982215],\n",
       "       [ 5.48155542,  1.13205905],\n",
       "       [-6.66495477, -6.54363888],\n",
       "       [ 4.04555704,  1.63339105],\n",
       "       [-2.31043956,  9.5996132 ],\n",
       "       [ 4.5080757 ,  2.18743723],\n",
       "       [ 4.69812537,  2.55435668],\n",
       "       [-3.19979377,  9.23970494],\n",
       "       [-2.83582726,  9.08083968],\n",
       "       [-6.74315123, -6.09582394],\n",
       "       [-6.56646225, -6.70191879],\n",
       "       [-3.17299861,  8.29656215],\n",
       "       [-2.06611768,  9.1171071 ],\n",
       "       [-7.52216269, -6.59062614],\n",
       "       [-6.71361271, -6.38379964],\n",
       "       [-2.5524037 ,  9.61640587],\n",
       "       [-7.40994165, -6.78787453],\n",
       "       [-6.59568462, -6.92380694],\n",
       "       [-2.78724824,  8.73484828],\n",
       "       [-6.92588822, -6.67541841],\n",
       "       [-7.14753616, -6.36627032],\n",
       "       [-2.29236026,  9.93710807],\n",
       "       [-2.53069325,  9.95307232],\n",
       "       [-2.78558089,  9.64855946],\n",
       "       [ 3.79065639,  1.72078249],\n",
       "       [-6.50422678, -7.39440413],\n",
       "       [-7.46443619, -6.40785883],\n",
       "       [-7.62179762, -7.67238356],\n",
       "       [-7.28764202, -6.74075737],\n",
       "       [ 4.817551  ,  2.12980285],\n",
       "       [ 4.52446226,  2.15409809],\n",
       "       [-6.18446984, -7.37251898],\n",
       "       [-1.56166993,  9.47474697],\n",
       "       [-2.86958084,  8.83926988],\n",
       "       [-2.4686807 ,  8.15943722],\n",
       "       [-2.31474724,  8.78323676],\n",
       "       [ 5.18912011,  2.17042035],\n",
       "       [ 4.6949353 ,  0.78062834],\n",
       "       [-7.70622881, -7.44280462],\n",
       "       [-2.79670217,  8.90289074],\n",
       "       [ 4.61905177,  1.27196286],\n",
       "       [-3.30610925,  9.13240287],\n",
       "       [-2.57858659,  8.83362391],\n",
       "       [ 4.00249661,  2.25732514],\n",
       "       [-7.84411713, -6.76932928],\n",
       "       [-6.77571864, -6.64891917],\n",
       "       [-6.87182606, -6.00798915],\n",
       "       [ 4.15478267,  1.67211546],\n",
       "       [ 3.06803177,  2.46631119],\n",
       "       [ 4.64294691,  1.8324174 ],\n",
       "       [-2.02168213,  9.82803015],\n",
       "       [-6.72369751, -6.41101587],\n",
       "       [-6.3863911 , -5.7420338 ],\n",
       "       [-7.01370486, -6.4517093 ],\n",
       "       [-3.1168963 ,  9.20283453],\n",
       "       [-2.36402026,  7.86631798],\n",
       "       [ 5.52661526,  1.66220755],\n",
       "       [-3.54414832,  8.67691361],\n",
       "       [-6.70378371, -7.30872044],\n",
       "       [ 4.21864698,  1.7765724 ],\n",
       "       [-7.02686006, -7.33235129],\n",
       "       [ 3.48861611,  1.95726136],\n",
       "       [-7.03842129, -5.24800809],\n",
       "       [-6.75117094, -7.62755286],\n",
       "       [ 4.67601696,  3.45111495],\n",
       "       [-7.41333585, -7.36959576],\n",
       "       [ 4.32202271,  2.28113014],\n",
       "       [ 4.79440907,  1.92850213],\n",
       "       [ 4.43425013,  1.49180332],\n",
       "       [-6.72933148, -6.67224067],\n",
       "       [-7.59440929, -6.48617743],\n",
       "       [-2.30302665,  7.95646203],\n",
       "       [ 4.69966966,  1.67108429],\n",
       "       [-6.30160151, -6.63244104],\n",
       "       [ 5.114498  ,  1.42753721],\n",
       "       [-6.84470196, -7.56589177],\n",
       "       [ 5.77159038,  2.07791637],\n",
       "       [ 3.70948078,  2.01430747],\n",
       "       [-2.29221601,  8.62721428],\n",
       "       [ 4.16992686,  1.77993277],\n",
       "       [-2.01567068,  8.28177994],\n",
       "       [-5.76016248, -6.59580984],\n",
       "       [-2.51729596,  8.37965957],\n",
       "       [-2.38387947,  7.83848405],\n",
       "       [-1.62980836,  8.87882035],\n",
       "       [ 4.0882243 ,  2.90313033],\n",
       "       [-3.39631082,  8.5823796 ],\n",
       "       [ 4.40461394,  1.09506072],\n",
       "       [ 4.69210708,  1.79376527],\n",
       "       [ 5.32557252,  2.4243295 ],\n",
       "       [-3.05401207,  8.16690391],\n",
       "       [ 4.99199309,  3.28744306],\n",
       "       [-2.87022159, 10.12565304],\n",
       "       [-2.91535082,  9.3812919 ],\n",
       "       [-1.89059791,  9.5730542 ],\n",
       "       [ 4.54310741,  2.2156002 ],\n",
       "       [-6.22979645, -6.24782836],\n",
       "       [-3.01272814,  8.8287587 ]])"
      ]
     },
     "execution_count": 26,
     "metadata": {},
     "output_type": "execute_result"
    }
   ],
   "source": [
    "X "
   ]
  },
  {
   "cell_type": "code",
   "execution_count": 27,
   "id": "d2bd76c2",
   "metadata": {},
   "outputs": [
    {
     "data": {
      "text/plain": [
       "array([2, 1, 0, 1, 2, 1, 0, 1, 1, 0, 0, 2, 2, 0, 0, 2, 2, 0, 2, 2, 0, 2,\n",
       "       2, 0, 0, 0, 1, 2, 2, 2, 2, 1, 1, 2, 0, 0, 0, 0, 1, 1, 2, 0, 1, 0,\n",
       "       0, 1, 2, 2, 2, 1, 1, 1, 0, 2, 2, 2, 0, 0, 1, 0, 2, 1, 2, 1, 2, 2,\n",
       "       1, 2, 1, 1, 1, 2, 2, 0, 1, 2, 1, 2, 1, 1, 0, 1, 0, 2, 0, 0, 0, 1,\n",
       "       0, 1, 1, 1, 0, 1, 0, 0, 0, 1, 2, 0])"
      ]
     },
     "execution_count": 27,
     "metadata": {},
     "output_type": "execute_result"
    }
   ],
   "source": [
    "y_true"
   ]
  },
  {
   "cell_type": "code",
   "execution_count": 28,
   "id": "f01daff3",
   "metadata": {},
   "outputs": [],
   "source": [
    "df = pd.DataFrame(X, columns=['Feature1', 'Feature2'])"
   ]
  },
  {
   "cell_type": "code",
   "execution_count": 29,
   "id": "3c2748ca",
   "metadata": {},
   "outputs": [
    {
     "data": {
      "text/html": [
       "<div>\n",
       "<style scoped>\n",
       "    .dataframe tbody tr th:only-of-type {\n",
       "        vertical-align: middle;\n",
       "    }\n",
       "\n",
       "    .dataframe tbody tr th {\n",
       "        vertical-align: top;\n",
       "    }\n",
       "\n",
       "    .dataframe thead th {\n",
       "        text-align: right;\n",
       "    }\n",
       "</style>\n",
       "<table border=\"1\" class=\"dataframe\">\n",
       "  <thead>\n",
       "    <tr style=\"text-align: right;\">\n",
       "      <th></th>\n",
       "      <th>Feature1</th>\n",
       "      <th>Feature2</th>\n",
       "    </tr>\n",
       "  </thead>\n",
       "  <tbody>\n",
       "    <tr>\n",
       "      <th>0</th>\n",
       "      <td>-7.387703</td>\n",
       "      <td>-7.789018</td>\n",
       "    </tr>\n",
       "    <tr>\n",
       "      <th>1</th>\n",
       "      <td>5.127989</td>\n",
       "      <td>1.234651</td>\n",
       "    </tr>\n",
       "    <tr>\n",
       "      <th>2</th>\n",
       "      <td>-2.790882</td>\n",
       "      <td>9.339822</td>\n",
       "    </tr>\n",
       "    <tr>\n",
       "      <th>3</th>\n",
       "      <td>5.481555</td>\n",
       "      <td>1.132059</td>\n",
       "    </tr>\n",
       "    <tr>\n",
       "      <th>4</th>\n",
       "      <td>-6.664955</td>\n",
       "      <td>-6.543639</td>\n",
       "    </tr>\n",
       "    <tr>\n",
       "      <th>...</th>\n",
       "      <td>...</td>\n",
       "      <td>...</td>\n",
       "    </tr>\n",
       "    <tr>\n",
       "      <th>95</th>\n",
       "      <td>-2.915351</td>\n",
       "      <td>9.381292</td>\n",
       "    </tr>\n",
       "    <tr>\n",
       "      <th>96</th>\n",
       "      <td>-1.890598</td>\n",
       "      <td>9.573054</td>\n",
       "    </tr>\n",
       "    <tr>\n",
       "      <th>97</th>\n",
       "      <td>4.543107</td>\n",
       "      <td>2.215600</td>\n",
       "    </tr>\n",
       "    <tr>\n",
       "      <th>98</th>\n",
       "      <td>-6.229796</td>\n",
       "      <td>-6.247828</td>\n",
       "    </tr>\n",
       "    <tr>\n",
       "      <th>99</th>\n",
       "      <td>-3.012728</td>\n",
       "      <td>8.828759</td>\n",
       "    </tr>\n",
       "  </tbody>\n",
       "</table>\n",
       "<p>100 rows × 2 columns</p>\n",
       "</div>"
      ],
      "text/plain": [
       "    Feature1  Feature2\n",
       "0  -7.387703 -7.789018\n",
       "1   5.127989  1.234651\n",
       "2  -2.790882  9.339822\n",
       "3   5.481555  1.132059\n",
       "4  -6.664955 -6.543639\n",
       "..       ...       ...\n",
       "95 -2.915351  9.381292\n",
       "96 -1.890598  9.573054\n",
       "97  4.543107  2.215600\n",
       "98 -6.229796 -6.247828\n",
       "99 -3.012728  8.828759\n",
       "\n",
       "[100 rows x 2 columns]"
      ]
     },
     "execution_count": 29,
     "metadata": {},
     "output_type": "execute_result"
    }
   ],
   "source": [
    "df"
   ]
  },
  {
   "cell_type": "code",
   "execution_count": 30,
   "id": "4919df84",
   "metadata": {},
   "outputs": [],
   "source": [
    "scaler = StandardScaler()\n",
    "X_scaled = scaler.fit_transform(X)"
   ]
  },
  {
   "cell_type": "code",
   "execution_count": 31,
   "id": "038b3b9c",
   "metadata": {},
   "outputs": [],
   "source": [
    "interia = []\n",
    "k_range= range(1, 11)"
   ]
  },
  {
   "cell_type": "code",
   "execution_count": 32,
   "id": "5538d0e0",
   "metadata": {},
   "outputs": [],
   "source": [
    "for k in k_range:\n",
    "  kmeans = KMeans(n_clusters=k, random_state=42)\n",
    "  kmeans.fit(X_scaled)\n",
    "  interia.append(kmeans.inertia_)"
   ]
  },
  {
   "cell_type": "code",
   "execution_count": 33,
   "id": "3626152e",
   "metadata": {},
   "outputs": [
    {
     "data": {
      "text/plain": [
       "[200.00000000000009,\n",
       " 59.93027512966685,\n",
       " 2.0331401136396376,\n",
       " 1.744067842287665,\n",
       " 1.48264069625492,\n",
       " 1.390761351133011,\n",
       " 1.1422705097654797,\n",
       " 0.9740243472092622,\n",
       " 0.9155190035597238,\n",
       " 0.7641617436454586]"
      ]
     },
     "execution_count": 33,
     "metadata": {},
     "output_type": "execute_result"
    }
   ],
   "source": [
    "interia"
   ]
  },
  {
   "cell_type": "code",
   "execution_count": 34,
   "id": "28d49de9",
   "metadata": {},
   "outputs": [
    {
     "data": {
      "text/plain": [
       "[<matplotlib.lines.Line2D at 0x218b15d0e10>]"
      ]
     },
     "execution_count": 34,
     "metadata": {},
     "output_type": "execute_result"
    },
    {
     "data": {
      "image/png": "[encoded data removed]",
      "text/plain": [
       "<Figure size 640x480 with 1 Axes>"
      ]
     },
     "metadata": {},
     "output_type": "display_data"
    }
   ],
   "source": [
    "plt.plot(k_range, interia, marker='o')"
   ]
  },
  {
   "cell_type": "code",
   "execution_count": 35,
   "id": "d99a1f55",
   "metadata": {},
   "outputs": [],
   "source": [
    "kmeans_final = KMeans(n_clusters=3, random_state=42)"
   ]
  },
  {
   "cell_type": "code",
   "execution_count": 36,
   "id": "d9242ee6",
   "metadata": {},
   "outputs": [],
   "source": [
    "cluster_lables = kmeans_final.fit_predict(X_scaled)"
   ]
  },
  {
   "cell_type": "code",
   "execution_count": 37,
   "id": "f7302a4b",
   "metadata": {},
   "outputs": [
    {
     "data": {
      "text/plain": [
       "array([1, 2, 0, 2, 1, 2, 0, 2, 2, 0, 0, 1, 1, 0, 0, 1, 1, 0, 1, 1, 0, 1,\n",
       "       1, 0, 0, 0, 2, 1, 1, 1, 1, 2, 2, 1, 0, 0, 0, 0, 2, 2, 1, 0, 2, 0,\n",
       "       0, 2, 1, 1, 1, 2, 2, 2, 0, 1, 1, 1, 0, 0, 2, 0, 1, 2, 1, 2, 1, 1,\n",
       "       2, 1, 2, 2, 2, 1, 1, 0, 2, 1, 2, 1, 2, 2, 0, 2, 0, 1, 0, 0, 0, 2,\n",
       "       0, 2, 2, 2, 0, 2, 0, 0, 0, 2, 1, 0], dtype=int32)"
      ]
     },
     "execution_count": 37,
     "metadata": {},
     "output_type": "execute_result"
    }
   ],
   "source": [
    "cluster_lables"
   ]
  },
  {
   "cell_type": "code",
   "execution_count": 38,
   "id": "7d387cb5",
   "metadata": {},
   "outputs": [],
   "source": [
    "df['clusters'] = cluster_lables"
   ]
  },
  {
   "cell_type": "code",
   "execution_count": 39,
   "id": "c64a4e8c",
   "metadata": {},
   "outputs": [
    {
     "data": {
      "text/html": [
       "<div>\n",
       "<style scoped>\n",
       "    .dataframe tbody tr th:only-of-type {\n",
       "        vertical-align: middle;\n",
       "    }\n",
       "\n",
       "    .dataframe tbody tr th {\n",
       "        vertical-align: top;\n",
       "    }\n",
       "\n",
       "    .dataframe thead th {\n",
       "        text-align: right;\n",
       "    }\n",
       "</style>\n",
       "<table border=\"1\" class=\"dataframe\">\n",
       "  <thead>\n",
       "    <tr style=\"text-align: right;\">\n",
       "      <th></th>\n",
       "      <th>Feature1</th>\n",
       "      <th>Feature2</th>\n",
       "      <th>clusters</th>\n",
       "    </tr>\n",
       "  </thead>\n",
       "  <tbody>\n",
       "    <tr>\n",
       "      <th>0</th>\n",
       "      <td>-7.387703</td>\n",
       "      <td>-7.789018</td>\n",
       "      <td>1</td>\n",
       "    </tr>\n",
       "    <tr>\n",
       "      <th>1</th>\n",
       "      <td>5.127989</td>\n",
       "      <td>1.234651</td>\n",
       "      <td>2</td>\n",
       "    </tr>\n",
       "    <tr>\n",
       "      <th>2</th>\n",
       "      <td>-2.790882</td>\n",
       "      <td>9.339822</td>\n",
       "      <td>0</td>\n",
       "    </tr>\n",
       "    <tr>\n",
       "      <th>3</th>\n",
       "      <td>5.481555</td>\n",
       "      <td>1.132059</td>\n",
       "      <td>2</td>\n",
       "    </tr>\n",
       "    <tr>\n",
       "      <th>4</th>\n",
       "      <td>-6.664955</td>\n",
       "      <td>-6.543639</td>\n",
       "      <td>1</td>\n",
       "    </tr>\n",
       "    <tr>\n",
       "      <th>...</th>\n",
       "      <td>...</td>\n",
       "      <td>...</td>\n",
       "      <td>...</td>\n",
       "    </tr>\n",
       "    <tr>\n",
       "      <th>95</th>\n",
       "      <td>-2.915351</td>\n",
       "      <td>9.381292</td>\n",
       "      <td>0</td>\n",
       "    </tr>\n",
       "    <tr>\n",
       "      <th>96</th>\n",
       "      <td>-1.890598</td>\n",
       "      <td>9.573054</td>\n",
       "      <td>0</td>\n",
       "    </tr>\n",
       "    <tr>\n",
       "      <th>97</th>\n",
       "      <td>4.543107</td>\n",
       "      <td>2.215600</td>\n",
       "      <td>2</td>\n",
       "    </tr>\n",
       "    <tr>\n",
       "      <th>98</th>\n",
       "      <td>-6.229796</td>\n",
       "      <td>-6.247828</td>\n",
       "      <td>1</td>\n",
       "    </tr>\n",
       "    <tr>\n",
       "      <th>99</th>\n",
       "      <td>-3.012728</td>\n",
       "      <td>8.828759</td>\n",
       "      <td>0</td>\n",
       "    </tr>\n",
       "  </tbody>\n",
       "</table>\n",
       "<p>100 rows × 3 columns</p>\n",
       "</div>"
      ],
      "text/plain": [
       "    Feature1  Feature2  clusters\n",
       "0  -7.387703 -7.789018         1\n",
       "1   5.127989  1.234651         2\n",
       "2  -2.790882  9.339822         0\n",
       "3   5.481555  1.132059         2\n",
       "4  -6.664955 -6.543639         1\n",
       "..       ...       ...       ...\n",
       "95 -2.915351  9.381292         0\n",
       "96 -1.890598  9.573054         0\n",
       "97  4.543107  2.215600         2\n",
       "98 -6.229796 -6.247828         1\n",
       "99 -3.012728  8.828759         0\n",
       "\n",
       "[100 rows x 3 columns]"
      ]
     },
     "execution_count": 39,
     "metadata": {},
     "output_type": "execute_result"
    }
   ],
   "source": [
    "df  "
   ]
  },
  {
   "cell_type": "code",
   "execution_count": 40,
   "id": "fc330d05",
   "metadata": {},
   "outputs": [
    {
     "data": {
      "text/plain": [
       "<Axes: xlabel='Feature1', ylabel='Feature2'>"
      ]
     },
     "execution_count": 40,
     "metadata": {},
     "output_type": "execute_result"
    },
    {
     "data": {
      "image/png": "[encoded data removed]",
      "text/plain": [
       "<Figure size 640x480 with 1 Axes>"
      ]
     },
     "metadata": {},
     "output_type": "display_data"
    }
   ],
   "source": [
    "sns.scatterplot(data=df, x='Feature1', y='Feature2', hue='clusters', palette='viridis')"
   ]
  },
  {
   "cell_type": "code",
   "execution_count": null,
   "id": "232bdc4c",
   "metadata": {},
   "outputs": [],
   "source": []
  }
 ],
 "metadata": {
  "kernelspec": {
   "display_name": "Python 3",
   "language": "python",
   "name": "python3"
  },
  "language_info": {
   "codemirror_mode": {
    "name": "ipython",
    "version": 3
   },
   "file_extension": ".py",
   "mimetype": "text/x-python",
   "name": "python",
   "nbconvert_exporter": "python",
   "pygments_lexer": "ipython3",
   "version": "3.13.5"
  }
 },
 "nbformat": 4,
 "nbformat_minor": 5
}
